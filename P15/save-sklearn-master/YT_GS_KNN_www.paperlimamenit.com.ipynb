{
 "cells": [
  {
   "cell_type": "code",
   "execution_count": 12,
   "metadata": {},
   "outputs": [
    {
     "name": "stdout",
     "output_type": "stream",
     "text": [
      "Nama: Aditya Rimandi Putra\n",
      "NPM : 41155050210030\n",
      "\n"
     ]
    }
   ],
   "source": [
    "# Mencetak informasi identitas\n",
    "print('Nama: Aditya Rimandi Putra')  # Mencetak nama lengkap\n",
    "print('NPM : 41155050210030\\n')  # Mencetak Nomor Pokok Mahasiswa (NPM)\n",
    "\n",
    "# Mengimpor library pandas dan memberikan alias 'pd'\n",
    "# pandas digunakan untuk manipulasi dan analisis data terstruktur\n",
    "import pandas as pd\n",
    "\n",
    "# Mengimpor library numpy dan memberikan alias 'np'\n",
    "# numpy digunakan untuk komputasi numerik, terutama array dan matriks\n",
    "import numpy as np\n",
    "\n",
    "# Mengimpor library scikit-learn (sklearn)\n",
    "# sklearn menyediakan alat untuk machine learning seperti klasifikasi, regresi, dll.\n",
    "import sklearn\n",
    "\n",
    "# Mengimpor library flask\n",
    "# flask adalah framework web ringan untuk membangun aplikasi web dan API\n",
    "import flask\n",
    "\n",
    "# Mengimpor KNeighborsClassifier dari sklearn.neighbors\n",
    "# KNeighborsClassifier adalah algoritma klasifikasi berbasis K-Nearest Neighbors (KNN)\n",
    "from sklearn.neighbors import KNeighborsClassifier\n",
    "\n",
    "# Mengimpor accuracy_score dari sklearn.metrics\n",
    "# accuracy_score digunakan untuk menghitung akurasi prediksi model\n",
    "from sklearn.metrics import accuracy_score\n",
    "\n",
    "# Mengimpor GridSearchCV dari sklearn.model_selection\n",
    "# GridSearchCV digunakan untuk mencari parameter terbaik model dengan validasi silang\n",
    "from sklearn.model_selection import GridSearchCV"
   ]
  },
  {
   "cell_type": "code",
   "execution_count": 2,
   "metadata": {},
   "outputs": [
    {
     "name": "stdout",
     "output_type": "stream",
     "text": [
      "3.0.3\n",
      "1.5.1\n"
     ]
    },
    {
     "name": "stderr",
     "output_type": "stream",
     "text": [
      "C:\\Users\\Kiel\\AppData\\Local\\Temp\\ipykernel_16716\\3361177274.py:3: DeprecationWarning: The '__version__' attribute is deprecated and will be removed in Flask 3.1. Use feature detection or 'importlib.metadata.version(\"flask\")' instead.\n",
      "  print(flask.__version__)\n"
     ]
    }
   ],
   "source": [
    "# Mencetak informasi identitas\n",
    "print('Nama: Aditya Rimandi Putra')  # Mencetak nama lengkap\n",
    "print('NPM : 41155050210030\\n')  # Mencetak Nomor Pokok Mahasiswa (NPM)\n",
    "\n",
    "# Mencetak versi dari library flask yang terinstal\n",
    "# flask.__version__ mengembalikan string yang berisi versi flask\n",
    "print(flask.__version__)\n",
    "\n",
    "# Mencetak versi dari library scikit-learn (sklearn) yang terinstal\n",
    "# sklearn.__version__ mengembalikan string yang berisi versi scikit-learn\n",
    "print(sklearn.__version__)"
   ]
  },
  {
   "cell_type": "code",
   "execution_count": 3,
   "metadata": {},
   "outputs": [],
   "source": [
    "# Mencetak informasi identitas\n",
    "print('Nama: Aditya Rimandi Putra')  # Mencetak nama lengkap\n",
    "print('NPM : 41155050210030\\n')  # Mencetak Nomor Pokok Mahasiswa (NPM)\n",
    "\n",
    "# Membaca file CSV 'diabetes_latih.csv' ke dalam DataFrame pandas\n",
    "# DataFrame adalah struktur data tabel yang digunakan untuk menyimpan dan memanipulasi data\n",
    "df = pd.read_csv('./diabetes_latih.csv')\n",
    "\n",
    "# Mengambil semua nilai dari DataFrame dan menyimpannya dalam variabel X_train\n",
    "# df.values mengembalikan array numpy yang berisi semua data dalam DataFrame\n",
    "X_train = df.values\n",
    "\n",
    "# Menghapus kolom ke-8 (indeks 8) dari array X_train\n",
    "# np.delete digunakan untuk menghapus elemen dari array numpy\n",
    "# axis=1 menunjukkan bahwa penghapusan dilakukan pada kolom (bukan baris)\n",
    "X_train = np.delete(X_train, 8, axis=1)\n",
    "\n",
    "# Mengambil nilai dari kolom 'Outcome' dalam DataFrame dan menyimpannya dalam variabel y_train\n",
    "# Kolom 'Outcome' biasanya berisi label/target untuk data latih\n",
    "y_train = df['Outcome'].values\n",
    "\n",
    "# Membaca file CSV 'diabetes_uji.csv' ke dalam DataFrame pandas\n",
    "# File ini biasanya berisi data uji yang akan digunakan untuk menguji model\n",
    "df = pd.read_csv('./diabetes_uji.csv')\n",
    "\n",
    "# Mengambil semua nilai dari DataFrame dan menyimpannya dalam variabel X_test\n",
    "X_test = df.values\n",
    "\n",
    "# Menghapus kolom ke-8 (indeks 8) dari array X_test\n",
    "# Kolom ini dihapus karena diasumsikan sebagai kolom target/label, bukan fitur\n",
    "X_test = np.delete(X_test, 8, axis=1)\n",
    "\n",
    "# Mengambil nilai dari kolom 'Outcome' dalam DataFrame dan menyimpannya dalam variabel y_test\n",
    "# Kolom 'Outcome' berisi label/target untuk data uji\n",
    "y_test = df['Outcome'].values"
   ]
  },
  {
   "cell_type": "code",
   "execution_count": 4,
   "metadata": {},
   "outputs": [
    {
     "data": {
      "text/plain": [
       "0.682"
      ]
     },
     "execution_count": 4,
     "metadata": {},
     "output_type": "execute_result"
    }
   ],
   "source": [
    "# Mencetak informasi identitas\n",
    "print('Nama: Aditya Rimandi Putra')  # Mencetak nama lengkap\n",
    "print('NPM : 41155050210030\\n')  # Mencetak Nomor Pokok Mahasiswa (NPM)\n",
    "\n",
    "# Membuat model K-Nearest Neighbors (KNN) dengan jumlah tetangga (n_neighbors) = 3\n",
    "# KNeighborsClassifier adalah algoritma klasifikasi berbasis jarak terdekat\n",
    "knn_clf = KNeighborsClassifier(n_neighbors=3)\n",
    "\n",
    "# Melatih model KNN menggunakan data latih (X_train) dan label latih (y_train)\n",
    "# Proses ini akan mengajarkan model untuk mengenali pola dalam data\n",
    "knn_clf.fit(X_train, y_train)\n",
    "\n",
    "# Memprediksi label untuk data uji (X_test) menggunakan model KNN yang sudah dilatih\n",
    "# Hasil prediksi disimpan dalam variabel y_pred\n",
    "y_pred = knn_clf.predict(X_test)\n",
    "\n",
    "# Menghitung akurasi prediksi dengan membandingkan label sebenarnya (y_test) dan label prediksi (y_pred)\n",
    "# accuracy_score mengembalikan nilai akurasi dalam bentuk desimal\n",
    "# round(..., 3) digunakan untuk membulatkan nilai akurasi hingga 3 angka di belakang koma\n",
    "round(accuracy_score(y_test, y_pred), 3)"
   ]
  },
  {
   "cell_type": "code",
   "execution_count": null,
   "metadata": {},
   "outputs": [
    {
     "data": {
      "text/plain": [
       "{'n_neighbors': 9}"
      ]
     },
     "execution_count": 5,
     "metadata": {},
     "output_type": "execute_result"
    }
   ],
   "source": [
    "# Mencetak informasi identitas\n",
    "print('Nama: Aditya Rimandi Putra')  # Mencetak nama lengkap\n",
    "print('NPM : 41155050210030\\n')  # Mencetak Nomor Pokok Mahasiswa (NPM)\n",
    "\n",
    "# Membuat dictionary param_grid yang berisi parameter yang akan diuji\n",
    "# 'n_neighbors': np.arange(1, 201) berarti kita akan mencoba nilai n_neighbors dari 1 hingga 200\n",
    "param_grid = {'n_neighbors': np.arange(1, 201)}\n",
    "\n",
    "# Membuat objek GridSearchCV untuk mencari parameter terbaik\n",
    "# GridSearchCV akan mencoba semua kombinasi parameter yang diberikan dalam param_grid\n",
    "# KNeighborsClassifier() adalah model yang akan di-tuning\n",
    "# cv=3 berarti menggunakan validasi silang (cross-validation) dengan 3 fold\n",
    "# scoring='accuracy' berarti metrik evaluasi yang digunakan adalah akurasi\n",
    "knn_clf = GridSearchCV(KNeighborsClassifier(), param_grid, cv=3, scoring='accuracy')\n",
    "\n",
    "# Melatih model GridSearchCV menggunakan data latih (X_train) dan label latih (y_train)\n",
    "# Proses ini akan mencoba semua kombinasi parameter dan memilih yang terbaik berdasarkan akurasi\n",
    "knn_clf.fit(X_train, y_train)\n",
    "\n",
    "# Mengambil parameter terbaik yang ditemukan oleh GridSearchCV\n",
    "# best_params_ mengembalikan dictionary yang berisi parameter terbaik\n",
    "knn_clf.best_params_"
   ]
  },
  {
   "cell_type": "code",
   "execution_count": 6,
   "metadata": {},
   "outputs": [
    {
     "data": {
      "text/plain": [
       "0.74"
      ]
     },
     "execution_count": 6,
     "metadata": {},
     "output_type": "execute_result"
    }
   ],
   "source": [
    "# Mencetak informasi identitas\n",
    "print('Nama: Aditya Rimandi Putra')  # Mencetak nama lengkap\n",
    "print('NPM : 41155050210030\\n')  # Mencetak Nomor Pokok Mahasiswa (NPM)\n",
    "\n",
    "# Membuat model K-Nearest Neighbors (KNN) dengan jumlah tetangga (n_neighbors) = 9\n",
    "# KNeighborsClassifier adalah algoritma klasifikasi berbasis jarak terdekat\n",
    "# n_neighbors=9 berarti model akan menggunakan 9 tetangga terdekat untuk melakukan klasifikasi\n",
    "knn_clf = KNeighborsClassifier(n_neighbors=9)\n",
    "\n",
    "# Melatih model KNN menggunakan data latih (X_train) dan label latih (y_train)\n",
    "# Proses ini akan mengajarkan model untuk mengenali pola dalam data\n",
    "knn_clf.fit(X_train, y_train)\n",
    "\n",
    "# Memprediksi label untuk data uji (X_test) menggunakan model KNN yang sudah dilatih\n",
    "# Hasil prediksi disimpan dalam variabel y_pred\n",
    "y_pred = knn_clf.predict(X_test)\n",
    "\n",
    "# Menghitung akurasi prediksi dengan membandingkan label sebenarnya (y_test) dan label prediksi (y_pred)\n",
    "# accuracy_score mengembalikan nilai akurasi dalam bentuk desimal\n",
    "# round(..., 3) digunakan untuk membulatkan nilai akurasi hingga 3 angka di belakang koma\n",
    "round(accuracy_score(y_test, y_pred), 3)"
   ]
  },
  {
   "cell_type": "code",
   "execution_count": 7,
   "metadata": {},
   "outputs": [],
   "source": [
    "# Mencetak informasi identitas\n",
    "print('Nama: Aditya Rimandi Putra')  # Mencetak nama lengkap\n",
    "print('NPM : 41155050210030\\n')  # Mencetak Nomor Pokok Mahasiswa (NPM)\n",
    "\n",
    "# Mengimpor library pickle\n",
    "# pickle adalah library Python yang digunakan untuk serialisasi dan deserialisasi objek Python\n",
    "# Serialisasi adalah proses mengubah objek Python menjadi format biner yang dapat disimpan atau ditransfer\n",
    "import pickle\n",
    "\n",
    "# Membuka file 'knn_pickle' dalam mode write binary ('wb')\n",
    "# File ini akan digunakan untuk menyimpan model KNN yang sudah dilatih\n",
    "# 'wb' berarti file dibuka untuk ditulis dalam format biner\n",
    "with open('knn_pickle', 'wb') as r:\n",
    "    # Menyimpan model KNN (knn_clf) ke dalam file 'knn_pickle' menggunakan pickle.dump\n",
    "    # Proses ini disebut serialisasi, di mana objek Python diubah menjadi format biner dan disimpan ke file\n",
    "    pickle.dump(knn_clf, r)"
   ]
  },
  {
   "cell_type": "code",
   "execution_count": 9,
   "metadata": {},
   "outputs": [],
   "source": [
    "# Mencetak informasi identitas\n",
    "print('Nama: Aditya Rimandi Putra')  # Mencetak nama lengkap\n",
    "print('NPM : 41155050210030\\n')  # Mencetak Nomor Pokok Mahasiswa (NPM)\n",
    "\n",
    "# Membuka file 'knn_pickle' dalam mode read binary ('rb')\n",
    "with open('knn_pickle', 'rb') as r:\n",
    "    # Memuat model KNN dari file menggunakan pickle.load\n",
    "    loaded_model = pickle.load(r)\n",
    "\n",
    "# Sekarang loaded_model adalah model KNN yang sudah dilatih dan siap digunakan"
   ]
  },
  {
   "cell_type": "code",
   "execution_count": 10,
   "metadata": {},
   "outputs": [
    {
     "data": {
      "text/plain": [
       "0.74"
      ]
     },
     "execution_count": 10,
     "metadata": {},
     "output_type": "execute_result"
    }
   ],
   "source": [
    "# Mencetak informasi identitas\n",
    "print('Nama: Aditya Rimandi Putra')  # Mencetak nama lengkap\n",
    "print('NPM : 41155050210030\\n')  # Mencetak Nomor Pokok Mahasiswa (NPM)\n",
    "\n",
    "# Menggunakan model KNN yang sudah dimuat (knnp) untuk memprediksi label dari data uji (X_test)\n",
    "# Hasil prediksi disimpan dalam variabel y_pred\n",
    "y_pred = knnp.predict(X_test)\n",
    "\n",
    "# Menghitung akurasi prediksi dengan membandingkan label sebenarnya (y_test) dan label prediksi (y_pred)\n",
    "# accuracy_score mengembalikan nilai akurasi dalam bentuk desimal\n",
    "# round(..., 3) digunakan untuk membulatkan nilai akurasi hingga 3 angka di belakang koma\n",
    "round(accuracy_score(y_test, y_pred), 3)"
   ]
  },
  {
   "cell_type": "code",
   "execution_count": 11,
   "metadata": {},
   "outputs": [
    {
     "data": {
      "text/plain": [
       "['knn_joblib']"
      ]
     },
     "execution_count": 11,
     "metadata": {},
     "output_type": "execute_result"
    }
   ],
   "source": [
    "# Mencetak informasi identitas\n",
    "print('Nama: Aditya Rimandi Putra')  # Mencetak nama lengkap\n",
    "print('NPM : 41155050210030\\n')  # Mencetak Nomor Pokok Mahasiswa (NPM)\n",
    "\n",
    "# Mengimpor library joblib\n",
    "# joblib adalah library Python yang digunakan untuk serialisasi dan deserialisasi objek Python\n",
    "# joblib sering digunakan untuk menyimpan model machine learning karena lebih efisien untuk objek besar\n",
    "import joblib\n",
    "\n",
    "# Menyimpan model KNN (knn_clf) ke dalam file 'knn_joblib' menggunakan joblib.dump\n",
    "# Proses ini disebut serialisasi, di mana objek Python diubah menjadi format biner dan disimpan ke file\n",
    "# joblib lebih efisien daripada pickle untuk objek besar seperti model machine learning\n",
    "joblib.dump(knn_clf, 'knn_joblib')"
   ]
  },
  {
   "cell_type": "code",
   "execution_count": 13,
   "metadata": {},
   "outputs": [],
   "source": [
    "# Mencetak informasi identitas\n",
    "print('Nama: Aditya Rimandi Putra')  # Mencetak nama lengkap\n",
    "print('NPM : 41155050210030\\n')  # Mencetak Nomor Pokok Mahasiswa (NPM)\n",
    "\n",
    "# Memuat model KNN dari file 'knn_joblib' menggunakan joblib.load\n",
    "# joblib.load membaca file biner dan mengembalikan objek Python yang disimpan di dalamnya\n",
    "# Dalam hal ini, objek yang dimuat adalah model KNN yang sudah dilatih\n",
    "knnjl = joblib.load('knn_joblib')"
   ]
  },
  {
   "cell_type": "code",
   "execution_count": 14,
   "metadata": {},
   "outputs": [
    {
     "data": {
      "text/plain": [
       "0.74"
      ]
     },
     "execution_count": 14,
     "metadata": {},
     "output_type": "execute_result"
    }
   ],
   "source": [
    "# Mencetak informasi identitas\n",
    "print('Nama: Aditya Rimandi Putra')  # Mencetak nama lengkap\n",
    "print('NPM : 41155050210030\\n')  # Mencetak Nomor Pokok Mahasiswa (NPM)\n",
    "\n",
    "# Menggunakan model KNN yang sudah dimuat (knnjl) untuk memprediksi label dari data uji (X_test)\n",
    "# Hasil prediksi disimpan dalam variabel y_pred\n",
    "y_pred = knnjl.predict(X_test)\n",
    "\n",
    "# Menghitung akurasi prediksi dengan membandingkan label sebenarnya (y_test) dan label prediksi (y_pred)\n",
    "# accuracy_score mengembalikan nilai akurasi dalam bentuk desimal\n",
    "# round(..., 3) digunakan untuk membulatkan nilai akurasi hingga 3 angka di belakang koma\n",
    "round(accuracy_score(y_test, y_pred), 3)"
   ]
  }
 ],
 "metadata": {
  "kernelspec": {
   "display_name": "base",
   "language": "python",
   "name": "python3"
  },
  "language_info": {
   "codemirror_mode": {
    "name": "ipython",
    "version": 3
   },
   "file_extension": ".py",
   "mimetype": "text/x-python",
   "name": "python",
   "nbconvert_exporter": "python",
   "pygments_lexer": "ipython3",
   "version": "3.12.7"
  }
 },
 "nbformat": 4,
 "nbformat_minor": 4
}
